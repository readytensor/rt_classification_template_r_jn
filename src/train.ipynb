{
 "cells": [
  {
   "cell_type": "markdown",
   "metadata": {},
   "source": [
    "## Imports"
   ]
  },
  {
   "cell_type": "code",
   "execution_count": 1,
   "metadata": {
    "vscode": {
     "languageId": "r"
    }
   },
   "outputs": [],
   "source": [
    "# DO NOT CHANGE THESE LINES.\n",
    "suppressWarnings(\n",
    "  suppressMessages({\n",
    "    library(jsonlite)\n",
    "    library(dplyr)\n",
    "    library(tidyr)\n",
    "    library(caret)\n",
    "    library(readr)\n",
    "    library(data.table)\n",
    "    library(fastDummies)\n",
    "    library(nnet)\n",
    "  })\n",
    ")"
   ]
  },
  {
   "cell_type": "markdown",
   "metadata": {},
   "source": [
    "## Paths"
   ]
  },
  {
   "cell_type": "code",
   "execution_count": 2,
   "metadata": {
    "vscode": {
     "languageId": "r"
    }
   },
   "outputs": [],
   "source": [
    "# DO NOT CHANGE THESE LINES.\n",
    "ROOT_DIR <- dirname(getwd())\n",
    "MODEL_INPUTS_OUTPUTS <- file.path(ROOT_DIR, 'model_inputs_outputs')\n",
    "INPUT_DIR <- file.path(MODEL_INPUTS_OUTPUTS, \"inputs\")\n",
    "INPUT_SCHEMA_DIR <- file.path(INPUT_DIR, \"schema\")\n",
    "DATA_DIR <- file.path(INPUT_DIR, \"data\")\n",
    "TRAIN_DIR <- file.path(DATA_DIR, \"training\")\n",
    "MODEL_ARTIFACTS_PATH <- file.path(MODEL_INPUTS_OUTPUTS, \"model\", \"artifacts\")\n",
    "OHE_ENCODER_FILE <- file.path(MODEL_ARTIFACTS_PATH, 'ohe.rds')\n",
    "PREDICTOR_FILE_PATH <- file.path(MODEL_ARTIFACTS_PATH, \"predictor\", \"predictor.rds\")\n",
    "IMPUTATION_FILE <- file.path(MODEL_ARTIFACTS_PATH, 'imputation.rds')\n",
    "LABEL_ENCODER_FILE <- file.path(MODEL_ARTIFACTS_PATH, 'label_encoder.rds')\n",
    "ENCODED_TARGET_FILE <- file.path(MODEL_ARTIFACTS_PATH, \"encoded_target.rds\")\n",
    "TOP_3_CATEGORIES_MAP <- file.path(MODEL_ARTIFACTS_PATH, \"top_3_map.rds\")\n",
    "\n",
    "if (!dir.exists(MODEL_ARTIFACTS_PATH)) {\n",
    "    dir.create(MODEL_ARTIFACTS_PATH, recursive = TRUE)\n",
    "}\n",
    "if (!dir.exists(file.path(MODEL_ARTIFACTS_PATH, \"predictor\"))) {\n",
    "    dir.create(file.path(MODEL_ARTIFACTS_PATH, \"predictor\"))\n",
    "}"
   ]
  },
  {
   "cell_type": "markdown",
   "metadata": {},
   "source": [
    "### Reading the schema\n",
    "The schema contains metadata about the datasets. We will use the scehma to get information about the type of each feature (NUMERIC or CATEGORICAL) and the id and target features, this will be helpful in preprocessing stage."
   ]
  },
  {
   "cell_type": "code",
   "execution_count": 3,
   "metadata": {
    "vscode": {
     "languageId": "r"
    }
   },
   "outputs": [],
   "source": [
    "file_name <- list.files(INPUT_SCHEMA_DIR, pattern = \"*.json\")[1]\n",
    "schema <- fromJSON(file.path(INPUT_SCHEMA_DIR, file_name))\n",
    "features <- schema$features\n",
    "\n",
    "numeric_features <- features$name[features$dataType == \"NUMERIC\"]\n",
    "categorical_features <- features$name[features$dataType == \"CATEGORICAL\"]\n",
    "id_feature <- schema$id$name\n",
    "target_feature <- schema$target$name\n",
    "model_category <- schema$modelCategory"
   ]
  },
  {
   "cell_type": "markdown",
   "metadata": {},
   "source": [
    "### Reading training data"
   ]
  },
  {
   "cell_type": "code",
   "execution_count": 4,
   "metadata": {
    "vscode": {
     "languageId": "r"
    }
   },
   "outputs": [
    {
     "data": {
      "text/html": [
       "<table class=\"dataframe\">\n",
       "<caption>A data.frame: 6 x 34</caption>\n",
       "<thead>\n",
       "\t<tr><th></th><th scope=col>Id</th><th scope=col>X1</th><th scope=col>X2</th><th scope=col>X3</th><th scope=col>X4</th><th scope=col>X5</th><th scope=col>X6</th><th scope=col>X7</th><th scope=col>X8</th><th scope=col>X9</th><th scope=col>...</th><th scope=col>X24</th><th scope=col>X25</th><th scope=col>X26</th><th scope=col>X27</th><th scope=col>X28</th><th scope=col>X29</th><th scope=col>X30</th><th scope=col>X31</th><th scope=col>X32</th><th scope=col>Phase</th></tr>\n",
       "\t<tr><th></th><th scope=col>&lt;int&gt;</th><th scope=col>&lt;dbl&gt;</th><th scope=col>&lt;dbl&gt;</th><th scope=col>&lt;dbl&gt;</th><th scope=col>&lt;dbl&gt;</th><th scope=col>&lt;dbl&gt;</th><th scope=col>&lt;dbl&gt;</th><th scope=col>&lt;dbl&gt;</th><th scope=col>&lt;dbl&gt;</th><th scope=col>&lt;dbl&gt;</th><th scope=col>...</th><th scope=col>&lt;dbl&gt;</th><th scope=col>&lt;dbl&gt;</th><th scope=col>&lt;dbl&gt;</th><th scope=col>&lt;dbl&gt;</th><th scope=col>&lt;dbl&gt;</th><th scope=col>&lt;dbl&gt;</th><th scope=col>&lt;dbl&gt;</th><th scope=col>&lt;dbl&gt;</th><th scope=col>&lt;dbl&gt;</th><th scope=col>&lt;chr&gt;</th></tr>\n",
       "</thead>\n",
       "<tbody>\n",
       "\t<tr><th scope=row>1</th><td>1776</td><td>-0.00097329</td><td> 0.00162618</td><td>-0.00007159</td><td>-0.00042025</td><td> 0.00306038</td><td>-0.00028111</td><td> 0.00046286</td><td> 0.00156423</td><td>-0.00029951</td><td>...</td><td>-0.00000482</td><td>0.00189654</td><td>0.00310186</td><td>0.00165854</td><td>0.00301216</td><td>0.00031660</td><td>0.00245034</td><td>0.00030301</td><td>0.00013135</td><td>P</td></tr>\n",
       "\t<tr><th scope=row>2</th><td>5522</td><td> 0.00612409</td><td>-0.03046733</td><td> 0.00240245</td><td> 0.00416802</td><td>-0.00092154</td><td>-0.00027998</td><td> 0.00365810</td><td>-0.02180706</td><td> 0.00182192</td><td>...</td><td>-0.00000138</td><td>0.03116945</td><td>0.00427785</td><td>0.02218668</td><td>0.00244711</td><td>0.00097349</td><td>0.00010083</td><td>0.00132872</td><td>0.00004721</td><td>P</td></tr>\n",
       "\t<tr><th scope=row>3</th><td>7047</td><td> 0.01072138</td><td> 0.00584966</td><td> 0.03174100</td><td> 0.01925152</td><td> 0.01778552</td><td> 0.06017001</td><td> 0.01019690</td><td> 0.00292270</td><td> 0.01093220</td><td>...</td><td> 0.00326259</td><td>0.03400967</td><td>0.06563060</td><td>0.01523259</td><td>0.03947077</td><td>0.00202505</td><td>0.00429311</td><td>0.00082388</td><td>0.00366965</td><td>S</td></tr>\n",
       "\t<tr><th scope=row>4</th><td>7152</td><td> 0.00619969</td><td> 0.01544912</td><td>-0.00824005</td><td>-0.00014001</td><td>-0.00109091</td><td>-0.00179021</td><td> 0.00424658</td><td> 0.00812888</td><td>-0.00615179</td><td>...</td><td>-0.00189031</td><td>0.01857444</td><td>0.00210108</td><td>0.01104340</td><td>0.00137522</td><td>0.00260543</td><td>0.00181556</td><td>0.00053719</td><td>0.00198435</td><td>S</td></tr>\n",
       "\t<tr><th scope=row>5</th><td>2480</td><td> 0.01239417</td><td> 0.00511193</td><td> 0.00054728</td><td> 0.01487226</td><td> 0.00439047</td><td>-0.00052110</td><td> 0.00124945</td><td> 0.00393094</td><td> 0.00005018</td><td>...</td><td> 0.00016431</td><td>0.01341815</td><td>0.01551554</td><td>0.00412504</td><td>0.00946664</td><td>0.00204508</td><td>0.00106448</td><td>0.00090394</td><td>0.00074077</td><td>S</td></tr>\n",
       "\t<tr><th scope=row>6</th><td>2980</td><td> 0.00018631</td><td> 0.00043444</td><td> 0.00000106</td><td>-0.00019567</td><td> 0.00086708</td><td> 0.00001689</td><td>-0.00104761</td><td>-0.00301388</td><td>-0.00040440</td><td>...</td><td>-0.00000411</td><td>0.00047271</td><td>0.00088904</td><td>0.00321629</td><td>0.00017729</td><td>0.00005416</td><td>0.00007364</td><td>0.00291751</td><td>0.00003490</td><td>H</td></tr>\n",
       "</tbody>\n",
       "</table>\n"
      ],
      "text/latex": [
       "A data.frame: 6 x 34\n",
       "\\begin{tabular}{r|lllllllllllllllllllll}\n",
       "  & Id & X1 & X2 & X3 & X4 & X5 & X6 & X7 & X8 & X9 & ... & X24 & X25 & X26 & X27 & X28 & X29 & X30 & X31 & X32 & Phase\\\\\n",
       "  & <int> & <dbl> & <dbl> & <dbl> & <dbl> & <dbl> & <dbl> & <dbl> & <dbl> & <dbl> & ... & <dbl> & <dbl> & <dbl> & <dbl> & <dbl> & <dbl> & <dbl> & <dbl> & <dbl> & <chr>\\\\\n",
       "\\hline\n",
       "\t1 & 1776 & -0.00097329 &  0.00162618 & -0.00007159 & -0.00042025 &  0.00306038 & -0.00028111 &  0.00046286 &  0.00156423 & -0.00029951 & ... & -0.00000482 & 0.00189654 & 0.00310186 & 0.00165854 & 0.00301216 & 0.00031660 & 0.00245034 & 0.00030301 & 0.00013135 & P\\\\\n",
       "\t2 & 5522 &  0.00612409 & -0.03046733 &  0.00240245 &  0.00416802 & -0.00092154 & -0.00027998 &  0.00365810 & -0.02180706 &  0.00182192 & ... & -0.00000138 & 0.03116945 & 0.00427785 & 0.02218668 & 0.00244711 & 0.00097349 & 0.00010083 & 0.00132872 & 0.00004721 & P\\\\\n",
       "\t3 & 7047 &  0.01072138 &  0.00584966 &  0.03174100 &  0.01925152 &  0.01778552 &  0.06017001 &  0.01019690 &  0.00292270 &  0.01093220 & ... &  0.00326259 & 0.03400967 & 0.06563060 & 0.01523259 & 0.03947077 & 0.00202505 & 0.00429311 & 0.00082388 & 0.00366965 & S\\\\\n",
       "\t4 & 7152 &  0.00619969 &  0.01544912 & -0.00824005 & -0.00014001 & -0.00109091 & -0.00179021 &  0.00424658 &  0.00812888 & -0.00615179 & ... & -0.00189031 & 0.01857444 & 0.00210108 & 0.01104340 & 0.00137522 & 0.00260543 & 0.00181556 & 0.00053719 & 0.00198435 & S\\\\\n",
       "\t5 & 2480 &  0.01239417 &  0.00511193 &  0.00054728 &  0.01487226 &  0.00439047 & -0.00052110 &  0.00124945 &  0.00393094 &  0.00005018 & ... &  0.00016431 & 0.01341815 & 0.01551554 & 0.00412504 & 0.00946664 & 0.00204508 & 0.00106448 & 0.00090394 & 0.00074077 & S\\\\\n",
       "\t6 & 2980 &  0.00018631 &  0.00043444 &  0.00000106 & -0.00019567 &  0.00086708 &  0.00001689 & -0.00104761 & -0.00301388 & -0.00040440 & ... & -0.00000411 & 0.00047271 & 0.00088904 & 0.00321629 & 0.00017729 & 0.00005416 & 0.00007364 & 0.00291751 & 0.00003490 & H\\\\\n",
       "\\end{tabular}\n"
      ],
      "text/markdown": [
       "\n",
       "A data.frame: 6 x 34\n",
       "\n",
       "| <!--/--> | Id &lt;int&gt; | X1 &lt;dbl&gt; | X2 &lt;dbl&gt; | X3 &lt;dbl&gt; | X4 &lt;dbl&gt; | X5 &lt;dbl&gt; | X6 &lt;dbl&gt; | X7 &lt;dbl&gt; | X8 &lt;dbl&gt; | X9 &lt;dbl&gt; | ... ... | X24 &lt;dbl&gt; | X25 &lt;dbl&gt; | X26 &lt;dbl&gt; | X27 &lt;dbl&gt; | X28 &lt;dbl&gt; | X29 &lt;dbl&gt; | X30 &lt;dbl&gt; | X31 &lt;dbl&gt; | X32 &lt;dbl&gt; | Phase &lt;chr&gt; |\n",
       "|---|---|---|---|---|---|---|---|---|---|---|---|---|---|---|---|---|---|---|---|---|---|\n",
       "| 1 | 1776 | -0.00097329 |  0.00162618 | -0.00007159 | -0.00042025 |  0.00306038 | -0.00028111 |  0.00046286 |  0.00156423 | -0.00029951 | ... | -0.00000482 | 0.00189654 | 0.00310186 | 0.00165854 | 0.00301216 | 0.00031660 | 0.00245034 | 0.00030301 | 0.00013135 | P |\n",
       "| 2 | 5522 |  0.00612409 | -0.03046733 |  0.00240245 |  0.00416802 | -0.00092154 | -0.00027998 |  0.00365810 | -0.02180706 |  0.00182192 | ... | -0.00000138 | 0.03116945 | 0.00427785 | 0.02218668 | 0.00244711 | 0.00097349 | 0.00010083 | 0.00132872 | 0.00004721 | P |\n",
       "| 3 | 7047 |  0.01072138 |  0.00584966 |  0.03174100 |  0.01925152 |  0.01778552 |  0.06017001 |  0.01019690 |  0.00292270 |  0.01093220 | ... |  0.00326259 | 0.03400967 | 0.06563060 | 0.01523259 | 0.03947077 | 0.00202505 | 0.00429311 | 0.00082388 | 0.00366965 | S |\n",
       "| 4 | 7152 |  0.00619969 |  0.01544912 | -0.00824005 | -0.00014001 | -0.00109091 | -0.00179021 |  0.00424658 |  0.00812888 | -0.00615179 | ... | -0.00189031 | 0.01857444 | 0.00210108 | 0.01104340 | 0.00137522 | 0.00260543 | 0.00181556 | 0.00053719 | 0.00198435 | S |\n",
       "| 5 | 2480 |  0.01239417 |  0.00511193 |  0.00054728 |  0.01487226 |  0.00439047 | -0.00052110 |  0.00124945 |  0.00393094 |  0.00005018 | ... |  0.00016431 | 0.01341815 | 0.01551554 | 0.00412504 | 0.00946664 | 0.00204508 | 0.00106448 | 0.00090394 | 0.00074077 | S |\n",
       "| 6 | 2980 |  0.00018631 |  0.00043444 |  0.00000106 | -0.00019567 |  0.00086708 |  0.00001689 | -0.00104761 | -0.00301388 | -0.00040440 | ... | -0.00000411 | 0.00047271 | 0.00088904 | 0.00321629 | 0.00017729 | 0.00005416 | 0.00007364 | 0.00291751 | 0.00003490 | H |\n",
       "\n"
      ],
      "text/plain": [
       "  Id   X1          X2          X3          X4          X5          X6         \n",
       "1 1776 -0.00097329  0.00162618 -0.00007159 -0.00042025  0.00306038 -0.00028111\n",
       "2 5522  0.00612409 -0.03046733  0.00240245  0.00416802 -0.00092154 -0.00027998\n",
       "3 7047  0.01072138  0.00584966  0.03174100  0.01925152  0.01778552  0.06017001\n",
       "4 7152  0.00619969  0.01544912 -0.00824005 -0.00014001 -0.00109091 -0.00179021\n",
       "5 2480  0.01239417  0.00511193  0.00054728  0.01487226  0.00439047 -0.00052110\n",
       "6 2980  0.00018631  0.00043444  0.00000106 -0.00019567  0.00086708  0.00001689\n",
       "  X7          X8          X9          ... X24         X25        X26       \n",
       "1  0.00046286  0.00156423 -0.00029951 ... -0.00000482 0.00189654 0.00310186\n",
       "2  0.00365810 -0.02180706  0.00182192 ... -0.00000138 0.03116945 0.00427785\n",
       "3  0.01019690  0.00292270  0.01093220 ...  0.00326259 0.03400967 0.06563060\n",
       "4  0.00424658  0.00812888 -0.00615179 ... -0.00189031 0.01857444 0.00210108\n",
       "5  0.00124945  0.00393094  0.00005018 ...  0.00016431 0.01341815 0.01551554\n",
       "6 -0.00104761 -0.00301388 -0.00040440 ... -0.00000411 0.00047271 0.00088904\n",
       "  X27        X28        X29        X30        X31        X32        Phase\n",
       "1 0.00165854 0.00301216 0.00031660 0.00245034 0.00030301 0.00013135 P    \n",
       "2 0.02218668 0.00244711 0.00097349 0.00010083 0.00132872 0.00004721 P    \n",
       "3 0.01523259 0.03947077 0.00202505 0.00429311 0.00082388 0.00366965 S    \n",
       "4 0.01104340 0.00137522 0.00260543 0.00181556 0.00053719 0.00198435 S    \n",
       "5 0.00412504 0.00946664 0.00204508 0.00106448 0.00090394 0.00074077 S    \n",
       "6 0.00321629 0.00017729 0.00005416 0.00007364 0.00291751 0.00003490 H    "
      ]
     },
     "metadata": {},
     "output_type": "display_data"
    }
   ],
   "source": [
    "# Reading training data\n",
    "file_name <- list.files(TRAIN_DIR, pattern = \"*.csv\")[1]\n",
    "# Read the first line to get column names\n",
    "header_line <- readLines(file.path(TRAIN_DIR, file_name), n = 1)\n",
    "col_names <- unlist(strsplit(header_line, split = \",\")) # assuming ',' is the delimiter\n",
    "# Read the CSV with the exact column names\n",
    "df <- read.csv(file.path(TRAIN_DIR, file_name), skip = 0, col.names = col_names, check.names=FALSE)\n",
    "head(df)"
   ]
  },
  {
   "cell_type": "markdown",
   "metadata": {},
   "source": [
    "## Data Preprocessing\n",
    "Data preprocessing is very important before training the model, as the data may contain missing values in some cells. Moreover, most of the learning algorithms cannot work with categorical data, thus the data has to be encoded.\n",
    "\n",
    "In this section we will impute the missing values and encode the categorical features. Afterwards the data will be ready to train the model."
   ]
  },
  {
   "cell_type": "markdown",
   "metadata": {},
   "source": [
    "##### Imputing missing data\n",
    "> The median value will be used to impute missing values of the numeric features and the mode will be used to impute categorical features.\n",
    "\n",
    "##### You can add your own preprocessing steps such as:\n",
    "<ul>\n",
    "<li>Normalization</li> <br>\n",
    "<li>Outlier removal</li><br>\n",
    "<li>Handling imbalanced classes</li><br>\n",
    "<li>Dropping or adding features</li><br>\n",
    "</ul>\n",
    "\n",
    "### Important note:\n",
    "<p> \n",
    "Saving the values used for imputation during training step is crucial. These values will be used to impute missing data in the testing set. This is very important to avoid the well known problem of data leakage. During testing, you should not make any assumptions about the data in hand, alternatively anything needed during the testing phase should be learned from the training phase. This is why we are creating a dictionary of values used during training to reuse these values during testing.\n",
    "</p>\n"
   ]
  },
  {
   "cell_type": "code",
   "execution_count": 5,
   "metadata": {
    "vscode": {
     "languageId": "r"
    }
   },
   "outputs": [
    {
     "data": {
      "text/html": [
       "<table class=\"dataframe\">\n",
       "<caption>A data.frame: 6 x 34</caption>\n",
       "<thead>\n",
       "\t<tr><th></th><th scope=col>Id</th><th scope=col>X1</th><th scope=col>X2</th><th scope=col>X3</th><th scope=col>X4</th><th scope=col>X5</th><th scope=col>X6</th><th scope=col>X7</th><th scope=col>X8</th><th scope=col>X9</th><th scope=col>...</th><th scope=col>X24</th><th scope=col>X25</th><th scope=col>X26</th><th scope=col>X27</th><th scope=col>X28</th><th scope=col>X29</th><th scope=col>X30</th><th scope=col>X31</th><th scope=col>X32</th><th scope=col>Phase</th></tr>\n",
       "\t<tr><th></th><th scope=col>&lt;int&gt;</th><th scope=col>&lt;dbl&gt;</th><th scope=col>&lt;dbl&gt;</th><th scope=col>&lt;dbl&gt;</th><th scope=col>&lt;dbl&gt;</th><th scope=col>&lt;dbl&gt;</th><th scope=col>&lt;dbl&gt;</th><th scope=col>&lt;dbl&gt;</th><th scope=col>&lt;dbl&gt;</th><th scope=col>&lt;dbl&gt;</th><th scope=col>...</th><th scope=col>&lt;dbl&gt;</th><th scope=col>&lt;dbl&gt;</th><th scope=col>&lt;dbl&gt;</th><th scope=col>&lt;dbl&gt;</th><th scope=col>&lt;dbl&gt;</th><th scope=col>&lt;dbl&gt;</th><th scope=col>&lt;dbl&gt;</th><th scope=col>&lt;dbl&gt;</th><th scope=col>&lt;dbl&gt;</th><th scope=col>&lt;chr&gt;</th></tr>\n",
       "</thead>\n",
       "<tbody>\n",
       "\t<tr><th scope=row>1</th><td>1776</td><td>-0.00097329</td><td> 0.00162618</td><td>-0.00007159</td><td>-0.00042025</td><td> 0.00306038</td><td>-0.00028111</td><td> 0.00046286</td><td> 0.00156423</td><td>-0.00029951</td><td>...</td><td>-0.00000482</td><td>0.00189654</td><td>0.00310186</td><td>0.00165854</td><td>0.00301216</td><td>0.00031660</td><td>0.00245034</td><td>0.00030301</td><td>0.00013135</td><td>P</td></tr>\n",
       "\t<tr><th scope=row>2</th><td>5522</td><td> 0.00612409</td><td>-0.03046733</td><td> 0.00240245</td><td> 0.00416802</td><td>-0.00092154</td><td>-0.00027998</td><td> 0.00365810</td><td>-0.02180706</td><td> 0.00182192</td><td>...</td><td>-0.00000138</td><td>0.03116945</td><td>0.00427785</td><td>0.02218668</td><td>0.00244711</td><td>0.00097349</td><td>0.00010083</td><td>0.00132872</td><td>0.00004721</td><td>P</td></tr>\n",
       "\t<tr><th scope=row>3</th><td>7047</td><td> 0.01072138</td><td> 0.00584966</td><td> 0.03174100</td><td> 0.01925152</td><td> 0.01778552</td><td> 0.06017001</td><td> 0.01019690</td><td> 0.00292270</td><td> 0.01093220</td><td>...</td><td> 0.00326259</td><td>0.03400967</td><td>0.06563060</td><td>0.01523259</td><td>0.03947077</td><td>0.00202505</td><td>0.00429311</td><td>0.00082388</td><td>0.00366965</td><td>S</td></tr>\n",
       "\t<tr><th scope=row>4</th><td>7152</td><td> 0.00619969</td><td> 0.01544912</td><td>-0.00824005</td><td>-0.00014001</td><td>-0.00109091</td><td>-0.00179021</td><td> 0.00424658</td><td> 0.00812888</td><td>-0.00615179</td><td>...</td><td>-0.00189031</td><td>0.01857444</td><td>0.00210108</td><td>0.01104340</td><td>0.00137522</td><td>0.00260543</td><td>0.00181556</td><td>0.00053719</td><td>0.00198435</td><td>S</td></tr>\n",
       "\t<tr><th scope=row>5</th><td>2480</td><td> 0.01239417</td><td> 0.00511193</td><td> 0.00054728</td><td> 0.01487226</td><td> 0.00439047</td><td>-0.00052110</td><td> 0.00124945</td><td> 0.00393094</td><td> 0.00005018</td><td>...</td><td> 0.00016431</td><td>0.01341815</td><td>0.01551554</td><td>0.00412504</td><td>0.00946664</td><td>0.00204508</td><td>0.00106448</td><td>0.00090394</td><td>0.00074077</td><td>S</td></tr>\n",
       "\t<tr><th scope=row>6</th><td>2980</td><td> 0.00018631</td><td> 0.00043444</td><td> 0.00000106</td><td>-0.00019567</td><td> 0.00086708</td><td> 0.00001689</td><td>-0.00104761</td><td>-0.00301388</td><td>-0.00040440</td><td>...</td><td>-0.00000411</td><td>0.00047271</td><td>0.00088904</td><td>0.00321629</td><td>0.00017729</td><td>0.00005416</td><td>0.00007364</td><td>0.00291751</td><td>0.00003490</td><td>H</td></tr>\n",
       "</tbody>\n",
       "</table>\n"
      ],
      "text/latex": [
       "A data.frame: 6 x 34\n",
       "\\begin{tabular}{r|lllllllllllllllllllll}\n",
       "  & Id & X1 & X2 & X3 & X4 & X5 & X6 & X7 & X8 & X9 & ... & X24 & X25 & X26 & X27 & X28 & X29 & X30 & X31 & X32 & Phase\\\\\n",
       "  & <int> & <dbl> & <dbl> & <dbl> & <dbl> & <dbl> & <dbl> & <dbl> & <dbl> & <dbl> & ... & <dbl> & <dbl> & <dbl> & <dbl> & <dbl> & <dbl> & <dbl> & <dbl> & <dbl> & <chr>\\\\\n",
       "\\hline\n",
       "\t1 & 1776 & -0.00097329 &  0.00162618 & -0.00007159 & -0.00042025 &  0.00306038 & -0.00028111 &  0.00046286 &  0.00156423 & -0.00029951 & ... & -0.00000482 & 0.00189654 & 0.00310186 & 0.00165854 & 0.00301216 & 0.00031660 & 0.00245034 & 0.00030301 & 0.00013135 & P\\\\\n",
       "\t2 & 5522 &  0.00612409 & -0.03046733 &  0.00240245 &  0.00416802 & -0.00092154 & -0.00027998 &  0.00365810 & -0.02180706 &  0.00182192 & ... & -0.00000138 & 0.03116945 & 0.00427785 & 0.02218668 & 0.00244711 & 0.00097349 & 0.00010083 & 0.00132872 & 0.00004721 & P\\\\\n",
       "\t3 & 7047 &  0.01072138 &  0.00584966 &  0.03174100 &  0.01925152 &  0.01778552 &  0.06017001 &  0.01019690 &  0.00292270 &  0.01093220 & ... &  0.00326259 & 0.03400967 & 0.06563060 & 0.01523259 & 0.03947077 & 0.00202505 & 0.00429311 & 0.00082388 & 0.00366965 & S\\\\\n",
       "\t4 & 7152 &  0.00619969 &  0.01544912 & -0.00824005 & -0.00014001 & -0.00109091 & -0.00179021 &  0.00424658 &  0.00812888 & -0.00615179 & ... & -0.00189031 & 0.01857444 & 0.00210108 & 0.01104340 & 0.00137522 & 0.00260543 & 0.00181556 & 0.00053719 & 0.00198435 & S\\\\\n",
       "\t5 & 2480 &  0.01239417 &  0.00511193 &  0.00054728 &  0.01487226 &  0.00439047 & -0.00052110 &  0.00124945 &  0.00393094 &  0.00005018 & ... &  0.00016431 & 0.01341815 & 0.01551554 & 0.00412504 & 0.00946664 & 0.00204508 & 0.00106448 & 0.00090394 & 0.00074077 & S\\\\\n",
       "\t6 & 2980 &  0.00018631 &  0.00043444 &  0.00000106 & -0.00019567 &  0.00086708 &  0.00001689 & -0.00104761 & -0.00301388 & -0.00040440 & ... & -0.00000411 & 0.00047271 & 0.00088904 & 0.00321629 & 0.00017729 & 0.00005416 & 0.00007364 & 0.00291751 & 0.00003490 & H\\\\\n",
       "\\end{tabular}\n"
      ],
      "text/markdown": [
       "\n",
       "A data.frame: 6 x 34\n",
       "\n",
       "| <!--/--> | Id &lt;int&gt; | X1 &lt;dbl&gt; | X2 &lt;dbl&gt; | X3 &lt;dbl&gt; | X4 &lt;dbl&gt; | X5 &lt;dbl&gt; | X6 &lt;dbl&gt; | X7 &lt;dbl&gt; | X8 &lt;dbl&gt; | X9 &lt;dbl&gt; | ... ... | X24 &lt;dbl&gt; | X25 &lt;dbl&gt; | X26 &lt;dbl&gt; | X27 &lt;dbl&gt; | X28 &lt;dbl&gt; | X29 &lt;dbl&gt; | X30 &lt;dbl&gt; | X31 &lt;dbl&gt; | X32 &lt;dbl&gt; | Phase &lt;chr&gt; |\n",
       "|---|---|---|---|---|---|---|---|---|---|---|---|---|---|---|---|---|---|---|---|---|---|\n",
       "| 1 | 1776 | -0.00097329 |  0.00162618 | -0.00007159 | -0.00042025 |  0.00306038 | -0.00028111 |  0.00046286 |  0.00156423 | -0.00029951 | ... | -0.00000482 | 0.00189654 | 0.00310186 | 0.00165854 | 0.00301216 | 0.00031660 | 0.00245034 | 0.00030301 | 0.00013135 | P |\n",
       "| 2 | 5522 |  0.00612409 | -0.03046733 |  0.00240245 |  0.00416802 | -0.00092154 | -0.00027998 |  0.00365810 | -0.02180706 |  0.00182192 | ... | -0.00000138 | 0.03116945 | 0.00427785 | 0.02218668 | 0.00244711 | 0.00097349 | 0.00010083 | 0.00132872 | 0.00004721 | P |\n",
       "| 3 | 7047 |  0.01072138 |  0.00584966 |  0.03174100 |  0.01925152 |  0.01778552 |  0.06017001 |  0.01019690 |  0.00292270 |  0.01093220 | ... |  0.00326259 | 0.03400967 | 0.06563060 | 0.01523259 | 0.03947077 | 0.00202505 | 0.00429311 | 0.00082388 | 0.00366965 | S |\n",
       "| 4 | 7152 |  0.00619969 |  0.01544912 | -0.00824005 | -0.00014001 | -0.00109091 | -0.00179021 |  0.00424658 |  0.00812888 | -0.00615179 | ... | -0.00189031 | 0.01857444 | 0.00210108 | 0.01104340 | 0.00137522 | 0.00260543 | 0.00181556 | 0.00053719 | 0.00198435 | S |\n",
       "| 5 | 2480 |  0.01239417 |  0.00511193 |  0.00054728 |  0.01487226 |  0.00439047 | -0.00052110 |  0.00124945 |  0.00393094 |  0.00005018 | ... |  0.00016431 | 0.01341815 | 0.01551554 | 0.00412504 | 0.00946664 | 0.00204508 | 0.00106448 | 0.00090394 | 0.00074077 | S |\n",
       "| 6 | 2980 |  0.00018631 |  0.00043444 |  0.00000106 | -0.00019567 |  0.00086708 |  0.00001689 | -0.00104761 | -0.00301388 | -0.00040440 | ... | -0.00000411 | 0.00047271 | 0.00088904 | 0.00321629 | 0.00017729 | 0.00005416 | 0.00007364 | 0.00291751 | 0.00003490 | H |\n",
       "\n"
      ],
      "text/plain": [
       "  Id   X1          X2          X3          X4          X5          X6         \n",
       "1 1776 -0.00097329  0.00162618 -0.00007159 -0.00042025  0.00306038 -0.00028111\n",
       "2 5522  0.00612409 -0.03046733  0.00240245  0.00416802 -0.00092154 -0.00027998\n",
       "3 7047  0.01072138  0.00584966  0.03174100  0.01925152  0.01778552  0.06017001\n",
       "4 7152  0.00619969  0.01544912 -0.00824005 -0.00014001 -0.00109091 -0.00179021\n",
       "5 2480  0.01239417  0.00511193  0.00054728  0.01487226  0.00439047 -0.00052110\n",
       "6 2980  0.00018631  0.00043444  0.00000106 -0.00019567  0.00086708  0.00001689\n",
       "  X7          X8          X9          ... X24         X25        X26       \n",
       "1  0.00046286  0.00156423 -0.00029951 ... -0.00000482 0.00189654 0.00310186\n",
       "2  0.00365810 -0.02180706  0.00182192 ... -0.00000138 0.03116945 0.00427785\n",
       "3  0.01019690  0.00292270  0.01093220 ...  0.00326259 0.03400967 0.06563060\n",
       "4  0.00424658  0.00812888 -0.00615179 ... -0.00189031 0.01857444 0.00210108\n",
       "5  0.00124945  0.00393094  0.00005018 ...  0.00016431 0.01341815 0.01551554\n",
       "6 -0.00104761 -0.00301388 -0.00040440 ... -0.00000411 0.00047271 0.00088904\n",
       "  X27        X28        X29        X30        X31        X32        Phase\n",
       "1 0.00165854 0.00301216 0.00031660 0.00245034 0.00030301 0.00013135 P    \n",
       "2 0.02218668 0.00244711 0.00097349 0.00010083 0.00132872 0.00004721 P    \n",
       "3 0.01523259 0.03947077 0.00202505 0.00429311 0.00082388 0.00366965 S    \n",
       "4 0.01104340 0.00137522 0.00260543 0.00181556 0.00053719 0.00198435 S    \n",
       "5 0.00412504 0.00946664 0.00204508 0.00106448 0.00090394 0.00074077 S    \n",
       "6 0.00321629 0.00017729 0.00005416 0.00007364 0.00291751 0.00003490 H    "
      ]
     },
     "metadata": {},
     "output_type": "display_data"
    }
   ],
   "source": [
    "imputation_values <- list()\n",
    "\n",
    "columns_with_missing_values <- colnames(df)[apply(df, 2, anyNA)]\n",
    "for (column in columns_with_missing_values) {\n",
    "    if (column %in% numeric_features) {\n",
    "        value <- median(df[, column], na.rm = TRUE)\n",
    "    } else {\n",
    "        value <- as.character(df[, column] %>% tidyr::replace_na())\n",
    "        value <- value[1]\n",
    "    }\n",
    "    df[, column][is.na(df[, column])] <- value\n",
    "    imputation_values[column] <- value\n",
    "}\n",
    "saveRDS(imputation_values, IMPUTATION_FILE)\n",
    "head(df)"
   ]
  },
  {
   "cell_type": "markdown",
   "metadata": {},
   "source": [
    "##### Encoding Categorical features\n",
    "<p>\n",
    "The id column is just an identifier for the training example, so we will exclude it during the encoding phase.<br>\n",
    "Target feature will be label encoded in the next step.\n",
    "</p>\n"
   ]
  },
  {
   "cell_type": "code",
   "execution_count": 6,
   "metadata": {
    "vscode": {
     "languageId": "r"
    }
   },
   "outputs": [
    {
     "data": {
      "text/html": [
       "<table class=\"dataframe\">\n",
       "<caption>A data.frame: 6 x 32</caption>\n",
       "<thead>\n",
       "\t<tr><th></th><th scope=col>X1</th><th scope=col>X2</th><th scope=col>X3</th><th scope=col>X4</th><th scope=col>X5</th><th scope=col>X6</th><th scope=col>X7</th><th scope=col>X8</th><th scope=col>X9</th><th scope=col>X10</th><th scope=col>...</th><th scope=col>X23</th><th scope=col>X24</th><th scope=col>X25</th><th scope=col>X26</th><th scope=col>X27</th><th scope=col>X28</th><th scope=col>X29</th><th scope=col>X30</th><th scope=col>X31</th><th scope=col>X32</th></tr>\n",
       "\t<tr><th></th><th scope=col>&lt;dbl&gt;</th><th scope=col>&lt;dbl&gt;</th><th scope=col>&lt;dbl&gt;</th><th scope=col>&lt;dbl&gt;</th><th scope=col>&lt;dbl&gt;</th><th scope=col>&lt;dbl&gt;</th><th scope=col>&lt;dbl&gt;</th><th scope=col>&lt;dbl&gt;</th><th scope=col>&lt;dbl&gt;</th><th scope=col>&lt;dbl&gt;</th><th scope=col>...</th><th scope=col>&lt;dbl&gt;</th><th scope=col>&lt;dbl&gt;</th><th scope=col>&lt;dbl&gt;</th><th scope=col>&lt;dbl&gt;</th><th scope=col>&lt;dbl&gt;</th><th scope=col>&lt;dbl&gt;</th><th scope=col>&lt;dbl&gt;</th><th scope=col>&lt;dbl&gt;</th><th scope=col>&lt;dbl&gt;</th><th scope=col>&lt;dbl&gt;</th></tr>\n",
       "</thead>\n",
       "<tbody>\n",
       "\t<tr><th scope=row>1</th><td>-0.00097329</td><td> 0.00162618</td><td>-0.00007159</td><td>-0.00042025</td><td> 0.00306038</td><td>-0.00028111</td><td> 0.00046286</td><td> 0.00156423</td><td>-0.00029951</td><td>-0.00037538</td><td>...</td><td> 0.00012813</td><td>-0.00000482</td><td>0.00189654</td><td>0.00310186</td><td>0.00165854</td><td>0.00301216</td><td>0.00031660</td><td>0.00245034</td><td>0.00030301</td><td>0.00013135</td></tr>\n",
       "\t<tr><th scope=row>2</th><td> 0.00612409</td><td>-0.03046733</td><td> 0.00240245</td><td> 0.00416802</td><td>-0.00092154</td><td>-0.00027998</td><td> 0.00365810</td><td>-0.02180706</td><td> 0.00182192</td><td> 0.00235699</td><td>...</td><td> 0.00003784</td><td>-0.00000138</td><td>0.03116945</td><td>0.00427785</td><td>0.02218668</td><td>0.00244711</td><td>0.00097349</td><td>0.00010083</td><td>0.00132872</td><td>0.00004721</td></tr>\n",
       "\t<tr><th scope=row>3</th><td> 0.01072138</td><td> 0.00584966</td><td> 0.03174100</td><td> 0.01925152</td><td> 0.01778552</td><td> 0.06017001</td><td> 0.01019690</td><td> 0.00292270</td><td> 0.01093220</td><td> 0.00317718</td><td>...</td><td> 0.00161313</td><td> 0.00326259</td><td>0.03400967</td><td>0.06563060</td><td>0.01523259</td><td>0.03947077</td><td>0.00202505</td><td>0.00429311</td><td>0.00082388</td><td>0.00366965</td></tr>\n",
       "\t<tr><th scope=row>4</th><td> 0.00619969</td><td> 0.01544912</td><td>-0.00824005</td><td>-0.00014001</td><td>-0.00109091</td><td>-0.00179021</td><td> 0.00424658</td><td> 0.00812888</td><td>-0.00615179</td><td> 0.00040560</td><td>...</td><td> 0.00019363</td><td>-0.00189031</td><td>0.01857444</td><td>0.00210108</td><td>0.01104340</td><td>0.00137522</td><td>0.00260543</td><td>0.00181556</td><td>0.00053719</td><td>0.00198435</td></tr>\n",
       "\t<tr><th scope=row>5</th><td> 0.01239417</td><td> 0.00511193</td><td> 0.00054728</td><td> 0.01487226</td><td> 0.00439047</td><td>-0.00052110</td><td> 0.00124945</td><td> 0.00393094</td><td> 0.00005018</td><td> 0.00916923</td><td>...</td><td>-0.00051050</td><td> 0.00016431</td><td>0.01341815</td><td>0.01551554</td><td>0.00412504</td><td>0.00946664</td><td>0.00204508</td><td>0.00106448</td><td>0.00090394</td><td>0.00074077</td></tr>\n",
       "\t<tr><th scope=row>6</th><td> 0.00018631</td><td> 0.00043444</td><td> 0.00000106</td><td>-0.00019567</td><td> 0.00086708</td><td> 0.00001689</td><td>-0.00104761</td><td>-0.00301388</td><td>-0.00040440</td><td> 0.00016310</td><td>...</td><td> 0.00000441</td><td>-0.00000411</td><td>0.00047271</td><td>0.00088904</td><td>0.00321629</td><td>0.00017729</td><td>0.00005416</td><td>0.00007364</td><td>0.00291751</td><td>0.00003490</td></tr>\n",
       "</tbody>\n",
       "</table>\n"
      ],
      "text/latex": [
       "A data.frame: 6 x 32\n",
       "\\begin{tabular}{r|lllllllllllllllllllll}\n",
       "  & X1 & X2 & X3 & X4 & X5 & X6 & X7 & X8 & X9 & X10 & ... & X23 & X24 & X25 & X26 & X27 & X28 & X29 & X30 & X31 & X32\\\\\n",
       "  & <dbl> & <dbl> & <dbl> & <dbl> & <dbl> & <dbl> & <dbl> & <dbl> & <dbl> & <dbl> & ... & <dbl> & <dbl> & <dbl> & <dbl> & <dbl> & <dbl> & <dbl> & <dbl> & <dbl> & <dbl>\\\\\n",
       "\\hline\n",
       "\t1 & -0.00097329 &  0.00162618 & -0.00007159 & -0.00042025 &  0.00306038 & -0.00028111 &  0.00046286 &  0.00156423 & -0.00029951 & -0.00037538 & ... &  0.00012813 & -0.00000482 & 0.00189654 & 0.00310186 & 0.00165854 & 0.00301216 & 0.00031660 & 0.00245034 & 0.00030301 & 0.00013135\\\\\n",
       "\t2 &  0.00612409 & -0.03046733 &  0.00240245 &  0.00416802 & -0.00092154 & -0.00027998 &  0.00365810 & -0.02180706 &  0.00182192 &  0.00235699 & ... &  0.00003784 & -0.00000138 & 0.03116945 & 0.00427785 & 0.02218668 & 0.00244711 & 0.00097349 & 0.00010083 & 0.00132872 & 0.00004721\\\\\n",
       "\t3 &  0.01072138 &  0.00584966 &  0.03174100 &  0.01925152 &  0.01778552 &  0.06017001 &  0.01019690 &  0.00292270 &  0.01093220 &  0.00317718 & ... &  0.00161313 &  0.00326259 & 0.03400967 & 0.06563060 & 0.01523259 & 0.03947077 & 0.00202505 & 0.00429311 & 0.00082388 & 0.00366965\\\\\n",
       "\t4 &  0.00619969 &  0.01544912 & -0.00824005 & -0.00014001 & -0.00109091 & -0.00179021 &  0.00424658 &  0.00812888 & -0.00615179 &  0.00040560 & ... &  0.00019363 & -0.00189031 & 0.01857444 & 0.00210108 & 0.01104340 & 0.00137522 & 0.00260543 & 0.00181556 & 0.00053719 & 0.00198435\\\\\n",
       "\t5 &  0.01239417 &  0.00511193 &  0.00054728 &  0.01487226 &  0.00439047 & -0.00052110 &  0.00124945 &  0.00393094 &  0.00005018 &  0.00916923 & ... & -0.00051050 &  0.00016431 & 0.01341815 & 0.01551554 & 0.00412504 & 0.00946664 & 0.00204508 & 0.00106448 & 0.00090394 & 0.00074077\\\\\n",
       "\t6 &  0.00018631 &  0.00043444 &  0.00000106 & -0.00019567 &  0.00086708 &  0.00001689 & -0.00104761 & -0.00301388 & -0.00040440 &  0.00016310 & ... &  0.00000441 & -0.00000411 & 0.00047271 & 0.00088904 & 0.00321629 & 0.00017729 & 0.00005416 & 0.00007364 & 0.00291751 & 0.00003490\\\\\n",
       "\\end{tabular}\n"
      ],
      "text/markdown": [
       "\n",
       "A data.frame: 6 x 32\n",
       "\n",
       "| <!--/--> | X1 &lt;dbl&gt; | X2 &lt;dbl&gt; | X3 &lt;dbl&gt; | X4 &lt;dbl&gt; | X5 &lt;dbl&gt; | X6 &lt;dbl&gt; | X7 &lt;dbl&gt; | X8 &lt;dbl&gt; | X9 &lt;dbl&gt; | X10 &lt;dbl&gt; | ... ... | X23 &lt;dbl&gt; | X24 &lt;dbl&gt; | X25 &lt;dbl&gt; | X26 &lt;dbl&gt; | X27 &lt;dbl&gt; | X28 &lt;dbl&gt; | X29 &lt;dbl&gt; | X30 &lt;dbl&gt; | X31 &lt;dbl&gt; | X32 &lt;dbl&gt; |\n",
       "|---|---|---|---|---|---|---|---|---|---|---|---|---|---|---|---|---|---|---|---|---|---|\n",
       "| 1 | -0.00097329 |  0.00162618 | -0.00007159 | -0.00042025 |  0.00306038 | -0.00028111 |  0.00046286 |  0.00156423 | -0.00029951 | -0.00037538 | ... |  0.00012813 | -0.00000482 | 0.00189654 | 0.00310186 | 0.00165854 | 0.00301216 | 0.00031660 | 0.00245034 | 0.00030301 | 0.00013135 |\n",
       "| 2 |  0.00612409 | -0.03046733 |  0.00240245 |  0.00416802 | -0.00092154 | -0.00027998 |  0.00365810 | -0.02180706 |  0.00182192 |  0.00235699 | ... |  0.00003784 | -0.00000138 | 0.03116945 | 0.00427785 | 0.02218668 | 0.00244711 | 0.00097349 | 0.00010083 | 0.00132872 | 0.00004721 |\n",
       "| 3 |  0.01072138 |  0.00584966 |  0.03174100 |  0.01925152 |  0.01778552 |  0.06017001 |  0.01019690 |  0.00292270 |  0.01093220 |  0.00317718 | ... |  0.00161313 |  0.00326259 | 0.03400967 | 0.06563060 | 0.01523259 | 0.03947077 | 0.00202505 | 0.00429311 | 0.00082388 | 0.00366965 |\n",
       "| 4 |  0.00619969 |  0.01544912 | -0.00824005 | -0.00014001 | -0.00109091 | -0.00179021 |  0.00424658 |  0.00812888 | -0.00615179 |  0.00040560 | ... |  0.00019363 | -0.00189031 | 0.01857444 | 0.00210108 | 0.01104340 | 0.00137522 | 0.00260543 | 0.00181556 | 0.00053719 | 0.00198435 |\n",
       "| 5 |  0.01239417 |  0.00511193 |  0.00054728 |  0.01487226 |  0.00439047 | -0.00052110 |  0.00124945 |  0.00393094 |  0.00005018 |  0.00916923 | ... | -0.00051050 |  0.00016431 | 0.01341815 | 0.01551554 | 0.00412504 | 0.00946664 | 0.00204508 | 0.00106448 | 0.00090394 | 0.00074077 |\n",
       "| 6 |  0.00018631 |  0.00043444 |  0.00000106 | -0.00019567 |  0.00086708 |  0.00001689 | -0.00104761 | -0.00301388 | -0.00040440 |  0.00016310 | ... |  0.00000441 | -0.00000411 | 0.00047271 | 0.00088904 | 0.00321629 | 0.00017729 | 0.00005416 | 0.00007364 | 0.00291751 | 0.00003490 |\n",
       "\n"
      ],
      "text/plain": [
       "  X1          X2          X3          X4          X5          X6         \n",
       "1 -0.00097329  0.00162618 -0.00007159 -0.00042025  0.00306038 -0.00028111\n",
       "2  0.00612409 -0.03046733  0.00240245  0.00416802 -0.00092154 -0.00027998\n",
       "3  0.01072138  0.00584966  0.03174100  0.01925152  0.01778552  0.06017001\n",
       "4  0.00619969  0.01544912 -0.00824005 -0.00014001 -0.00109091 -0.00179021\n",
       "5  0.01239417  0.00511193  0.00054728  0.01487226  0.00439047 -0.00052110\n",
       "6  0.00018631  0.00043444  0.00000106 -0.00019567  0.00086708  0.00001689\n",
       "  X7          X8          X9          X10         ... X23         X24        \n",
       "1  0.00046286  0.00156423 -0.00029951 -0.00037538 ...  0.00012813 -0.00000482\n",
       "2  0.00365810 -0.02180706  0.00182192  0.00235699 ...  0.00003784 -0.00000138\n",
       "3  0.01019690  0.00292270  0.01093220  0.00317718 ...  0.00161313  0.00326259\n",
       "4  0.00424658  0.00812888 -0.00615179  0.00040560 ...  0.00019363 -0.00189031\n",
       "5  0.00124945  0.00393094  0.00005018  0.00916923 ... -0.00051050  0.00016431\n",
       "6 -0.00104761 -0.00301388 -0.00040440  0.00016310 ...  0.00000441 -0.00000411\n",
       "  X25        X26        X27        X28        X29        X30        X31       \n",
       "1 0.00189654 0.00310186 0.00165854 0.00301216 0.00031660 0.00245034 0.00030301\n",
       "2 0.03116945 0.00427785 0.02218668 0.00244711 0.00097349 0.00010083 0.00132872\n",
       "3 0.03400967 0.06563060 0.01523259 0.03947077 0.00202505 0.00429311 0.00082388\n",
       "4 0.01857444 0.00210108 0.01104340 0.00137522 0.00260543 0.00181556 0.00053719\n",
       "5 0.01341815 0.01551554 0.00412504 0.00946664 0.00204508 0.00106448 0.00090394\n",
       "6 0.00047271 0.00088904 0.00321629 0.00017729 0.00005416 0.00007364 0.00291751\n",
       "  X32       \n",
       "1 0.00013135\n",
       "2 0.00004721\n",
       "3 0.00366965\n",
       "4 0.00198435\n",
       "5 0.00074077\n",
       "6 0.00003490"
      ]
     },
     "metadata": {},
     "output_type": "display_data"
    }
   ],
   "source": [
    "# Encoding Categorical features\n",
    "ids <- df[, id_feature]\n",
    "target <- df[, target_feature]\n",
    "df <- df %>% select(-all_of(c(id_feature, target_feature)))\n",
    "\n",
    "\n",
    "# One Hot Encoding\n",
    "if(length(categorical_features) > 0){\n",
    "    top_3_map <- list()\n",
    "    for(col in categorical_features) {\n",
    "        # Get the top 3 categories for the column\n",
    "        top_3_categories <- names(sort(table(df[[col]]), decreasing = TRUE)[1:3])\n",
    "\n",
    "        # Save the top 3 categories for this column\n",
    "        top_3_map[[col]] <- top_3_categories\n",
    "        # Replace categories outside the top 3 with \"Other\"\n",
    "        df[[col]][!(df[[col]] %in% top_3_categories)] <- \"Other\"\n",
    "    }\n",
    "\n",
    "    df_encoded <- dummy_cols(df, select_columns = categorical_features, remove_selected_columns = TRUE)\n",
    "    encoded_columns <- setdiff(colnames(df_encoded), colnames(df))\n",
    "    saveRDS(encoded_columns, OHE_ENCODER_FILE)\n",
    "    saveRDS(top_3_map, TOP_3_CATEGORIES_MAP)\n",
    "    df <- df_encoded\n",
    "}\n",
    "head(df)\n"
   ]
  },
  {
   "cell_type": "markdown",
   "metadata": {},
   "source": [
    "#### Encoding the target feature"
   ]
  },
  {
   "cell_type": "code",
   "execution_count": 7,
   "metadata": {
    "vscode": {
     "languageId": "r"
    }
   },
   "outputs": [],
   "source": [
    "# Encoding the target feature\n",
    "levels_target <- levels(factor(target))\n",
    "encoded_target <- as.integer(factor(target, levels = levels_target)) - 1\n",
    "saveRDS(levels_target, LABEL_ENCODER_FILE)\n",
    "saveRDS(encoded_target, ENCODED_TARGET_FILE)"
   ]
  },
  {
   "cell_type": "markdown",
   "metadata": {},
   "source": [
    "### Training the Classifier\n",
    "We choose Logistic Regression Classifier, but feel free to try your own and compare the results."
   ]
  },
  {
   "cell_type": "code",
   "execution_count": 8,
   "metadata": {
    "vscode": {
     "languageId": "r"
    }
   },
   "outputs": [
    {
     "name": "stdout",
     "output_type": "stream",
     "text": [
      "# weights:  170 (132 variable)\n",
      "initial  value 12709.731194 \n",
      "iter  10 value 10385.186059\n",
      "iter  20 value 10119.446171\n",
      "iter  30 value 10074.539703\n",
      "iter  40 value 10043.855719\n",
      "iter  50 value 10021.855944\n",
      "iter  60 value 10010.549433\n",
      "iter  70 value 10001.560270\n",
      "iter  80 value 9995.803108\n",
      "iter  90 value 9991.641535\n",
      "iter 100 value 9987.710916\n",
      "final  value 9987.710916 \n",
      "stopped after 100 iterations\n"
     ]
    }
   ],
   "source": [
    "# Train the Classifier\n",
    "if (model_category == 'binary_classification'){\n",
    "    model <- glm(encoded_target ~ ., family = binomial(link = \"logit\"), data = df)\n",
    "\n",
    "} else if (model_category == \"multiclass_classification\") {\n",
    "   model <- multinom(encoded_target ~ ., data = df, MaxNWts = 10000)\n",
    "}\n",
    "saveRDS(model, PREDICTOR_FILE_PATH)\n"
   ]
  }
 ],
 "metadata": {
  "kernelspec": {
   "display_name": "R",
   "language": "R",
   "name": "ir"
  },
  "language_info": {
   "codemirror_mode": "r",
   "file_extension": ".r",
   "mimetype": "text/x-r-source",
   "name": "R",
   "pygments_lexer": "r",
   "version": "4.3.1"
  }
 },
 "nbformat": 4,
 "nbformat_minor": 2
}
