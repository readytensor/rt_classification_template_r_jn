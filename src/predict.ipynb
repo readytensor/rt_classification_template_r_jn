{
 "cells": [
  {
   "cell_type": "markdown",
   "metadata": {},
   "source": [
    "## Imports"
   ]
  },
  {
   "cell_type": "code",
   "execution_count": 1,
   "metadata": {
    "vscode": {
     "languageId": "r"
    }
   },
   "outputs": [],
   "source": [
    "# DO NOT CHANGE THESE LINES.\n",
    "suppressWarnings(\n",
    "  suppressMessages({\n",
    "    library(tidyverse)\n",
    "    library(jsonlite)\n",
    "    library(fastDummies)\n",
    "    library(nnet)\n",
    "  })\n",
    ")"
   ]
  },
  {
   "cell_type": "markdown",
   "metadata": {},
   "source": [
    "## Paths"
   ]
  },
  {
   "cell_type": "code",
   "execution_count": 2,
   "metadata": {
    "vscode": {
     "languageId": "r"
    }
   },
   "outputs": [],
   "source": [
    "# DO NOT CHANGE THESE LINES.\n",
    "ROOT_DIR <- dirname(getwd())\n",
    "MODEL_INPUTS_OUTPUTS <- file.path(ROOT_DIR, 'model_inputs_outputs')\n",
    "INPUT_DIR <- file.path(MODEL_INPUTS_OUTPUTS, \"inputs\")\n",
    "OUTPUT_DIR <- file.path(MODEL_INPUTS_OUTPUTS, \"outputs\")\n",
    "INPUT_SCHEMA_DIR <- file.path(INPUT_DIR, \"schema\")\n",
    "DATA_DIR <- file.path(INPUT_DIR, \"data\")\n",
    "TRAIN_DIR <- file.path(DATA_DIR, \"training\")\n",
    "TEST_DIR <- file.path(DATA_DIR, \"testing\")\n",
    "MODEL_PATH <- file.path(MODEL_INPUTS_OUTPUTS, \"model\")\n",
    "MODEL_ARTIFACTS_PATH <- file.path(MODEL_PATH, \"artifacts\")\n",
    "OHE_ENCODER_FILE <- file.path(MODEL_ARTIFACTS_PATH, 'ohe.rds')\n",
    "PREDICTOR_DIR_PATH <- file.path(MODEL_ARTIFACTS_PATH, \"predictor\")\n",
    "PREDICTOR_FILE_PATH <- file.path(PREDICTOR_DIR_PATH, \"predictor.rds\")\n",
    "IMPUTATION_FILE <- file.path(MODEL_ARTIFACTS_PATH, 'imputation.rds')\n",
    "PREDICTIONS_DIR <- file.path(OUTPUT_DIR, 'predictions')\n",
    "PREDICTIONS_FILE <- file.path(PREDICTIONS_DIR, 'predictions.csv')\n",
    "LABEL_ENCODER_FILE <- file.path(MODEL_ARTIFACTS_PATH, 'label_encoder.rds')\n",
    "ENCODED_TARGET_FILE <- file.path(MODEL_ARTIFACTS_PATH, \"encoded_target.rds\")\n",
    "TOP_3_CATEGORIES_MAP <- file.path(MODEL_ARTIFACTS_PATH, \"top_3_map.rds\")\n",
    "\n",
    "if (!dir.exists(PREDICTIONS_DIR)) {\n",
    "  dir.create(PREDICTIONS_DIR, recursive = TRUE)\n",
    "}"
   ]
  },
  {
   "cell_type": "markdown",
   "metadata": {},
   "source": [
    "### Reading the schema"
   ]
  },
  {
   "cell_type": "code",
   "execution_count": 3,
   "metadata": {
    "vscode": {
     "languageId": "r"
    }
   },
   "outputs": [],
   "source": [
    "file_name <- list.files(INPUT_SCHEMA_DIR, pattern = \"*.json\")[1]\n",
    "schema <- fromJSON(file.path(INPUT_SCHEMA_DIR, file_name))\n",
    "features <- schema$features\n",
    "\n",
    "numeric_features <- features$name[features$dataType != 'CATEGORICAL']\n",
    "categorical_features <- features$name[features$dataType == 'CATEGORICAL']\n",
    "id_feature <- schema$id$name\n",
    "target_feature <- schema$target$name\n",
    "target_classes <- schema$target$classes\n",
    "model_category <- schema$modelCategory"
   ]
  },
  {
   "cell_type": "markdown",
   "metadata": {},
   "source": [
    "### Reading test data."
   ]
  },
  {
   "cell_type": "code",
   "execution_count": 4,
   "metadata": {
    "vscode": {
     "languageId": "r"
    }
   },
   "outputs": [],
   "source": [
    "# Reading test data.\n",
    "file_name <- list.files(TEST_DIR, pattern = \"*.csv\", full.names = TRUE)[1]\n",
    "# Read the first line to get column names\n",
    "header_line <- readLines(file_name, n = 1)\n",
    "col_names <- unlist(strsplit(header_line, split = \",\")) # assuming ',' is the delimiter\n",
    "# Read the CSV with the exact column names\n",
    "df <- read.csv(file_name, skip = 0, col.names = col_names, check.names=FALSE)"
   ]
  },
  {
   "cell_type": "markdown",
   "metadata": {},
   "source": [
    "## Data preprocessing\n",
    "Note that when we work with testing data, we have to impute using the same values learned during training. This is to avoid data leakage."
   ]
  },
  {
   "cell_type": "code",
   "execution_count": 5,
   "metadata": {
    "vscode": {
     "languageId": "r"
    }
   },
   "outputs": [],
   "source": [
    "imputation_values <- readRDS(IMPUTATION_FILE)\n",
    "for (column in names(df)[sapply(df, function(col) any(is.na(col)))]) {\n",
    "  df[, column][is.na(df[, column])] <- imputation_values[[column]]\n",
    "}"
   ]
  },
  {
   "cell_type": "code",
   "execution_count": 6,
   "metadata": {
    "vscode": {
     "languageId": "r"
    }
   },
   "outputs": [
    {
     "data": {
      "text/html": [
       "<table class=\"dataframe\">\n",
       "<caption>A data.frame: 6 x 32</caption>\n",
       "<thead>\n",
       "\t<tr><th></th><th scope=col>X1</th><th scope=col>X2</th><th scope=col>X3</th><th scope=col>X4</th><th scope=col>X5</th><th scope=col>X6</th><th scope=col>X7</th><th scope=col>X8</th><th scope=col>X9</th><th scope=col>X10</th><th scope=col>...</th><th scope=col>X23</th><th scope=col>X24</th><th scope=col>X25</th><th scope=col>X26</th><th scope=col>X27</th><th scope=col>X28</th><th scope=col>X29</th><th scope=col>X30</th><th scope=col>X31</th><th scope=col>X32</th></tr>\n",
       "\t<tr><th></th><th scope=col>&lt;dbl&gt;</th><th scope=col>&lt;dbl&gt;</th><th scope=col>&lt;dbl&gt;</th><th scope=col>&lt;dbl&gt;</th><th scope=col>&lt;dbl&gt;</th><th scope=col>&lt;dbl&gt;</th><th scope=col>&lt;dbl&gt;</th><th scope=col>&lt;dbl&gt;</th><th scope=col>&lt;dbl&gt;</th><th scope=col>&lt;dbl&gt;</th><th scope=col>...</th><th scope=col>&lt;dbl&gt;</th><th scope=col>&lt;dbl&gt;</th><th scope=col>&lt;dbl&gt;</th><th scope=col>&lt;dbl&gt;</th><th scope=col>&lt;dbl&gt;</th><th scope=col>&lt;dbl&gt;</th><th scope=col>&lt;dbl&gt;</th><th scope=col>&lt;dbl&gt;</th><th scope=col>&lt;dbl&gt;</th><th scope=col>&lt;dbl&gt;</th></tr>\n",
       "</thead>\n",
       "<tbody>\n",
       "\t<tr><th scope=row>1</th><td> 0.00028408</td><td>-0.00016291</td><td>-0.00004502</td><td>0.01452343</td><td>-0.00433185</td><td>-0.00132287</td><td>-0.00002617</td><td>-0.00061623</td><td> 0.00010604</td><td> 0.00877363</td><td>...</td><td>-0.00018344</td><td>-0.00014018</td><td>0.00033056</td><td>0.01521332</td><td>0.00062583</td><td>0.00890927</td><td>0.00015812</td><td>0.00211354</td><td>0.00020266</td><td>0.00218619</td></tr>\n",
       "\t<tr><th scope=row>2</th><td>-0.00006228</td><td> 0.00043633</td><td> 0.00016562</td><td>0.00139257</td><td>-0.00044223</td><td> 0.00020754</td><td> 0.00097774</td><td> 0.00051748</td><td>-0.00000684</td><td>-0.00009722</td><td>...</td><td> 0.00060851</td><td> 0.00012892</td><td>0.00047084</td><td>0.00147577</td><td>0.00110626</td><td>0.00240156</td><td>0.00053823</td><td>0.00161534</td><td>0.00086654</td><td>0.00062205</td></tr>\n",
       "\t<tr><th scope=row>3</th><td> 0.00886443</td><td>-0.02939425</td><td> 0.00264778</td><td>0.01571359</td><td> 0.03180669</td><td>-0.00073439</td><td> 0.00844243</td><td> 0.01358210</td><td>-0.00118457</td><td> 0.01208746</td><td>...</td><td> 0.00967730</td><td> 0.00035650</td><td>0.03081575</td><td>0.03548410</td><td>0.01603594</td><td>0.02922327</td><td>0.01310763</td><td>0.01207336</td><td>0.01651852</td><td>0.01059408</td></tr>\n",
       "\t<tr><th scope=row>4</th><td> 0.02145489</td><td> 0.01743992</td><td> 0.00379467</td><td>0.01339493</td><td> 0.00076531</td><td>-0.00076950</td><td> 0.02131140</td><td> 0.01376909</td><td> 0.00428827</td><td> 0.00982688</td><td>...</td><td> 0.00321702</td><td>-0.00296212</td><td>0.02790811</td><td>0.01343883</td><td>0.02573233</td><td>0.01053071</td><td>0.02243118</td><td>0.00862146</td><td>0.01722895</td><td>0.00445101</td></tr>\n",
       "\t<tr><th scope=row>5</th><td> 0.00147721</td><td>-0.00178811</td><td>-0.00497505</td><td>0.00112580</td><td> 0.00857101</td><td> 0.00848820</td><td> 0.00120100</td><td>-0.00063487</td><td>-0.00572473</td><td> 0.00506914</td><td>...</td><td> 0.00113801</td><td>-0.00024614</td><td>0.00548913</td><td>0.01211525</td><td>0.00588371</td><td>0.00949511</td><td>0.00331269</td><td>0.00152415</td><td>0.00206997</td><td>0.00133677</td></tr>\n",
       "\t<tr><th scope=row>6</th><td> 0.00552926</td><td> 0.00437267</td><td>-0.00073831</td><td>0.02496931</td><td>-0.03973564</td><td>-0.00253208</td><td> 0.00158065</td><td> 0.00165054</td><td>-0.00021593</td><td> 0.01683546</td><td>...</td><td> 0.00073970</td><td> 0.00001593</td><td>0.00708788</td><td>0.04699787</td><td>0.00229551</td><td>0.03422393</td><td>0.00155000</td><td>0.00759593</td><td>0.00073124</td><td>0.00145763</td></tr>\n",
       "</tbody>\n",
       "</table>\n"
      ],
      "text/latex": [
       "A data.frame: 6 x 32\n",
       "\\begin{tabular}{r|lllllllllllllllllllll}\n",
       "  & X1 & X2 & X3 & X4 & X5 & X6 & X7 & X8 & X9 & X10 & ... & X23 & X24 & X25 & X26 & X27 & X28 & X29 & X30 & X31 & X32\\\\\n",
       "  & <dbl> & <dbl> & <dbl> & <dbl> & <dbl> & <dbl> & <dbl> & <dbl> & <dbl> & <dbl> & ... & <dbl> & <dbl> & <dbl> & <dbl> & <dbl> & <dbl> & <dbl> & <dbl> & <dbl> & <dbl>\\\\\n",
       "\\hline\n",
       "\t1 &  0.00028408 & -0.00016291 & -0.00004502 & 0.01452343 & -0.00433185 & -0.00132287 & -0.00002617 & -0.00061623 &  0.00010604 &  0.00877363 & ... & -0.00018344 & -0.00014018 & 0.00033056 & 0.01521332 & 0.00062583 & 0.00890927 & 0.00015812 & 0.00211354 & 0.00020266 & 0.00218619\\\\\n",
       "\t2 & -0.00006228 &  0.00043633 &  0.00016562 & 0.00139257 & -0.00044223 &  0.00020754 &  0.00097774 &  0.00051748 & -0.00000684 & -0.00009722 & ... &  0.00060851 &  0.00012892 & 0.00047084 & 0.00147577 & 0.00110626 & 0.00240156 & 0.00053823 & 0.00161534 & 0.00086654 & 0.00062205\\\\\n",
       "\t3 &  0.00886443 & -0.02939425 &  0.00264778 & 0.01571359 &  0.03180669 & -0.00073439 &  0.00844243 &  0.01358210 & -0.00118457 &  0.01208746 & ... &  0.00967730 &  0.00035650 & 0.03081575 & 0.03548410 & 0.01603594 & 0.02922327 & 0.01310763 & 0.01207336 & 0.01651852 & 0.01059408\\\\\n",
       "\t4 &  0.02145489 &  0.01743992 &  0.00379467 & 0.01339493 &  0.00076531 & -0.00076950 &  0.02131140 &  0.01376909 &  0.00428827 &  0.00982688 & ... &  0.00321702 & -0.00296212 & 0.02790811 & 0.01343883 & 0.02573233 & 0.01053071 & 0.02243118 & 0.00862146 & 0.01722895 & 0.00445101\\\\\n",
       "\t5 &  0.00147721 & -0.00178811 & -0.00497505 & 0.00112580 &  0.00857101 &  0.00848820 &  0.00120100 & -0.00063487 & -0.00572473 &  0.00506914 & ... &  0.00113801 & -0.00024614 & 0.00548913 & 0.01211525 & 0.00588371 & 0.00949511 & 0.00331269 & 0.00152415 & 0.00206997 & 0.00133677\\\\\n",
       "\t6 &  0.00552926 &  0.00437267 & -0.00073831 & 0.02496931 & -0.03973564 & -0.00253208 &  0.00158065 &  0.00165054 & -0.00021593 &  0.01683546 & ... &  0.00073970 &  0.00001593 & 0.00708788 & 0.04699787 & 0.00229551 & 0.03422393 & 0.00155000 & 0.00759593 & 0.00073124 & 0.00145763\\\\\n",
       "\\end{tabular}\n"
      ],
      "text/markdown": [
       "\n",
       "A data.frame: 6 x 32\n",
       "\n",
       "| <!--/--> | X1 &lt;dbl&gt; | X2 &lt;dbl&gt; | X3 &lt;dbl&gt; | X4 &lt;dbl&gt; | X5 &lt;dbl&gt; | X6 &lt;dbl&gt; | X7 &lt;dbl&gt; | X8 &lt;dbl&gt; | X9 &lt;dbl&gt; | X10 &lt;dbl&gt; | ... ... | X23 &lt;dbl&gt; | X24 &lt;dbl&gt; | X25 &lt;dbl&gt; | X26 &lt;dbl&gt; | X27 &lt;dbl&gt; | X28 &lt;dbl&gt; | X29 &lt;dbl&gt; | X30 &lt;dbl&gt; | X31 &lt;dbl&gt; | X32 &lt;dbl&gt; |\n",
       "|---|---|---|---|---|---|---|---|---|---|---|---|---|---|---|---|---|---|---|---|---|---|\n",
       "| 1 |  0.00028408 | -0.00016291 | -0.00004502 | 0.01452343 | -0.00433185 | -0.00132287 | -0.00002617 | -0.00061623 |  0.00010604 |  0.00877363 | ... | -0.00018344 | -0.00014018 | 0.00033056 | 0.01521332 | 0.00062583 | 0.00890927 | 0.00015812 | 0.00211354 | 0.00020266 | 0.00218619 |\n",
       "| 2 | -0.00006228 |  0.00043633 |  0.00016562 | 0.00139257 | -0.00044223 |  0.00020754 |  0.00097774 |  0.00051748 | -0.00000684 | -0.00009722 | ... |  0.00060851 |  0.00012892 | 0.00047084 | 0.00147577 | 0.00110626 | 0.00240156 | 0.00053823 | 0.00161534 | 0.00086654 | 0.00062205 |\n",
       "| 3 |  0.00886443 | -0.02939425 |  0.00264778 | 0.01571359 |  0.03180669 | -0.00073439 |  0.00844243 |  0.01358210 | -0.00118457 |  0.01208746 | ... |  0.00967730 |  0.00035650 | 0.03081575 | 0.03548410 | 0.01603594 | 0.02922327 | 0.01310763 | 0.01207336 | 0.01651852 | 0.01059408 |\n",
       "| 4 |  0.02145489 |  0.01743992 |  0.00379467 | 0.01339493 |  0.00076531 | -0.00076950 |  0.02131140 |  0.01376909 |  0.00428827 |  0.00982688 | ... |  0.00321702 | -0.00296212 | 0.02790811 | 0.01343883 | 0.02573233 | 0.01053071 | 0.02243118 | 0.00862146 | 0.01722895 | 0.00445101 |\n",
       "| 5 |  0.00147721 | -0.00178811 | -0.00497505 | 0.00112580 |  0.00857101 |  0.00848820 |  0.00120100 | -0.00063487 | -0.00572473 |  0.00506914 | ... |  0.00113801 | -0.00024614 | 0.00548913 | 0.01211525 | 0.00588371 | 0.00949511 | 0.00331269 | 0.00152415 | 0.00206997 | 0.00133677 |\n",
       "| 6 |  0.00552926 |  0.00437267 | -0.00073831 | 0.02496931 | -0.03973564 | -0.00253208 |  0.00158065 |  0.00165054 | -0.00021593 |  0.01683546 | ... |  0.00073970 |  0.00001593 | 0.00708788 | 0.04699787 | 0.00229551 | 0.03422393 | 0.00155000 | 0.00759593 | 0.00073124 | 0.00145763 |\n",
       "\n"
      ],
      "text/plain": [
       "  X1          X2          X3          X4         X5          X6         \n",
       "1  0.00028408 -0.00016291 -0.00004502 0.01452343 -0.00433185 -0.00132287\n",
       "2 -0.00006228  0.00043633  0.00016562 0.00139257 -0.00044223  0.00020754\n",
       "3  0.00886443 -0.02939425  0.00264778 0.01571359  0.03180669 -0.00073439\n",
       "4  0.02145489  0.01743992  0.00379467 0.01339493  0.00076531 -0.00076950\n",
       "5  0.00147721 -0.00178811 -0.00497505 0.00112580  0.00857101  0.00848820\n",
       "6  0.00552926  0.00437267 -0.00073831 0.02496931 -0.03973564 -0.00253208\n",
       "  X7          X8          X9          X10         ... X23         X24        \n",
       "1 -0.00002617 -0.00061623  0.00010604  0.00877363 ... -0.00018344 -0.00014018\n",
       "2  0.00097774  0.00051748 -0.00000684 -0.00009722 ...  0.00060851  0.00012892\n",
       "3  0.00844243  0.01358210 -0.00118457  0.01208746 ...  0.00967730  0.00035650\n",
       "4  0.02131140  0.01376909  0.00428827  0.00982688 ...  0.00321702 -0.00296212\n",
       "5  0.00120100 -0.00063487 -0.00572473  0.00506914 ...  0.00113801 -0.00024614\n",
       "6  0.00158065  0.00165054 -0.00021593  0.01683546 ...  0.00073970  0.00001593\n",
       "  X25        X26        X27        X28        X29        X30        X31       \n",
       "1 0.00033056 0.01521332 0.00062583 0.00890927 0.00015812 0.00211354 0.00020266\n",
       "2 0.00047084 0.00147577 0.00110626 0.00240156 0.00053823 0.00161534 0.00086654\n",
       "3 0.03081575 0.03548410 0.01603594 0.02922327 0.01310763 0.01207336 0.01651852\n",
       "4 0.02790811 0.01343883 0.02573233 0.01053071 0.02243118 0.00862146 0.01722895\n",
       "5 0.00548913 0.01211525 0.00588371 0.00949511 0.00331269 0.00152415 0.00206997\n",
       "6 0.00708788 0.04699787 0.00229551 0.03422393 0.00155000 0.00759593 0.00073124\n",
       "  X32       \n",
       "1 0.00218619\n",
       "2 0.00062205\n",
       "3 0.01059408\n",
       "4 0.00445101\n",
       "5 0.00133677\n",
       "6 0.00145763"
      ]
     },
     "metadata": {},
     "output_type": "display_data"
    }
   ],
   "source": [
    "# Saving the id column in a different variable and then dropping it.\n",
    "ids <- df[[id_feature]]\n",
    "df[[id_feature]] <- NULL\n",
    "head(df)"
   ]
  },
  {
   "cell_type": "markdown",
   "metadata": {},
   "source": [
    "### Encoding\n",
    "We encode the data using the same encoder that we saved during training."
   ]
  },
  {
   "cell_type": "code",
   "execution_count": 7,
   "metadata": {
    "vscode": {
     "languageId": "r"
    }
   },
   "outputs": [],
   "source": [
    "if (length(categorical_features) > 0 && file.exists(OHE_ENCODER_FILE)) {\n",
    "  top_3_map <- readRDS(TOP_3_CATEGORIES_MAP)\n",
    "  encoder <- readRDS(OHE_ENCODER_FILE)\n",
    "  for(col in categorical_features) {\n",
    "    # Use the saved top 3 categories to replace values outside these categories with 'Other'\n",
    "    df[[col]][!(df[[col]] %in% top_3_map[[col]])] <- \"Other\"\n",
    "  }\n",
    "\n",
    "  test_df_encoded <- dummy_cols(df, select_columns = categorical_features, remove_selected_columns = TRUE)\n",
    "  encoded_columns <- readRDS(OHE_ENCODER_FILE)\n",
    "  # Add missing columns with 0s\n",
    "    for (col in encoded_columns) {\n",
    "        if (!col %in% colnames(test_df_encoded)) {\n",
    "            test_df_encoded[[col]] <- 0\n",
    "        }\n",
    "    }\n",
    "\n",
    "# Remove extra columns\n",
    "    extra_cols <- setdiff(colnames(test_df_encoded), c(colnames(df), encoded_columns))\n",
    "    df <- test_df_encoded[, !names(test_df_encoded) %in% extra_cols]\n",
    "}"
   ]
  },
  {
   "cell_type": "markdown",
   "metadata": {},
   "source": [
    "### Making predictions\n",
    "Using the model saved during training. Notice that the model outputs a 2D array with many rows and 5 columns. </br>\n",
    "Each row in the array represents an answer to a sample in the test data. Each number of the 5 numbers in the row is a probability to one of the 5 classes in the original dataset."
   ]
  },
  {
   "cell_type": "code",
   "execution_count": 8,
   "metadata": {
    "vscode": {
     "languageId": "r"
    }
   },
   "outputs": [
    {
     "data": {
      "text/html": [
       "<table class=\"dataframe\">\n",
       "<caption>A matrix: 6 x 5 of type dbl</caption>\n",
       "<thead>\n",
       "\t<tr><th></th><th scope=col>0</th><th scope=col>1</th><th scope=col>2</th><th scope=col>3</th><th scope=col>4</th></tr>\n",
       "</thead>\n",
       "<tbody>\n",
       "\t<tr><th scope=row>1</th><td>0.2468496230</td><td>6.648546e-02</td><td>0.22214313</td><td>0.16233296</td><td>0.3021888</td></tr>\n",
       "\t<tr><th scope=row>2</th><td>0.5021940301</td><td>1.492466e-01</td><td>0.13519934</td><td>0.05779201</td><td>0.1555680</td></tr>\n",
       "\t<tr><th scope=row>3</th><td>0.0004435492</td><td>7.027803e-05</td><td>0.21647560</td><td>0.03380179</td><td>0.7492088</td></tr>\n",
       "\t<tr><th scope=row>4</th><td>0.0193742233</td><td>1.983382e-03</td><td>0.06483584</td><td>0.02787079</td><td>0.8859358</td></tr>\n",
       "\t<tr><th scope=row>5</th><td>0.0948142112</td><td>2.619522e-02</td><td>0.31862091</td><td>0.08144627</td><td>0.4789234</td></tr>\n",
       "\t<tr><th scope=row>6</th><td>0.0029090140</td><td>9.626001e-04</td><td>0.02829774</td><td>0.47843613</td><td>0.4893945</td></tr>\n",
       "</tbody>\n",
       "</table>\n"
      ],
      "text/latex": [
       "A matrix: 6 x 5 of type dbl\n",
       "\\begin{tabular}{r|lllll}\n",
       "  & 0 & 1 & 2 & 3 & 4\\\\\n",
       "\\hline\n",
       "\t1 & 0.2468496230 & 6.648546e-02 & 0.22214313 & 0.16233296 & 0.3021888\\\\\n",
       "\t2 & 0.5021940301 & 1.492466e-01 & 0.13519934 & 0.05779201 & 0.1555680\\\\\n",
       "\t3 & 0.0004435492 & 7.027803e-05 & 0.21647560 & 0.03380179 & 0.7492088\\\\\n",
       "\t4 & 0.0193742233 & 1.983382e-03 & 0.06483584 & 0.02787079 & 0.8859358\\\\\n",
       "\t5 & 0.0948142112 & 2.619522e-02 & 0.31862091 & 0.08144627 & 0.4789234\\\\\n",
       "\t6 & 0.0029090140 & 9.626001e-04 & 0.02829774 & 0.47843613 & 0.4893945\\\\\n",
       "\\end{tabular}\n"
      ],
      "text/markdown": [
       "\n",
       "A matrix: 6 x 5 of type dbl\n",
       "\n",
       "| <!--/--> | 0 | 1 | 2 | 3 | 4 |\n",
       "|---|---|---|---|---|---|\n",
       "| 1 | 0.2468496230 | 6.648546e-02 | 0.22214313 | 0.16233296 | 0.3021888 |\n",
       "| 2 | 0.5021940301 | 1.492466e-01 | 0.13519934 | 0.05779201 | 0.1555680 |\n",
       "| 3 | 0.0004435492 | 7.027803e-05 | 0.21647560 | 0.03380179 | 0.7492088 |\n",
       "| 4 | 0.0193742233 | 1.983382e-03 | 0.06483584 | 0.02787079 | 0.8859358 |\n",
       "| 5 | 0.0948142112 | 2.619522e-02 | 0.31862091 | 0.08144627 | 0.4789234 |\n",
       "| 6 | 0.0029090140 | 9.626001e-04 | 0.02829774 | 0.47843613 | 0.4893945 |\n",
       "\n"
      ],
      "text/plain": [
       "  0            1            2          3          4        \n",
       "1 0.2468496230 6.648546e-02 0.22214313 0.16233296 0.3021888\n",
       "2 0.5021940301 1.492466e-01 0.13519934 0.05779201 0.1555680\n",
       "3 0.0004435492 7.027803e-05 0.21647560 0.03380179 0.7492088\n",
       "4 0.0193742233 1.983382e-03 0.06483584 0.02787079 0.8859358\n",
       "5 0.0948142112 2.619522e-02 0.31862091 0.08144627 0.4789234\n",
       "6 0.0029090140 9.626001e-04 0.02829774 0.47843613 0.4893945"
      ]
     },
     "metadata": {},
     "output_type": "display_data"
    }
   ],
   "source": [
    "type <- ifelse(model_category == \"binary_classification\", \"response\", \"probs\")\n",
    "\n",
    "# Making predictions\n",
    "model <- readRDS(PREDICTOR_FILE_PATH)\n",
    "predictions <- predict(model, newdata = df, type = type)\n",
    "head(predictions)"
   ]
  },
  {
   "cell_type": "markdown",
   "metadata": {},
   "source": [
    "### Getting the original labels and creating the Dataframe."
   ]
  },
  {
   "cell_type": "code",
   "execution_count": 9,
   "metadata": {
    "vscode": {
     "languageId": "r"
    }
   },
   "outputs": [
    {
     "data": {
      "text/html": [
       "<table class=\"dataframe\">\n",
       "<caption>A tibble: 6 x 6</caption>\n",
       "<thead>\n",
       "\t<tr><th scope=col>Id</th><th scope=col>D</th><th scope=col>H</th><th scope=col>P</th><th scope=col>R</th><th scope=col>S</th></tr>\n",
       "\t<tr><th scope=col>&lt;int&gt;</th><th scope=col>&lt;dbl&gt;</th><th scope=col>&lt;dbl&gt;</th><th scope=col>&lt;dbl&gt;</th><th scope=col>&lt;dbl&gt;</th><th scope=col>&lt;dbl&gt;</th></tr>\n",
       "</thead>\n",
       "<tbody>\n",
       "\t<tr><td>1197</td><td>0.2468496230</td><td>6.648546e-02</td><td>0.22214313</td><td>0.16233296</td><td>0.3021888</td></tr>\n",
       "\t<tr><td>1745</td><td>0.5021940301</td><td>1.492466e-01</td><td>0.13519934</td><td>0.05779201</td><td>0.1555680</td></tr>\n",
       "\t<tr><td>7459</td><td>0.0004435492</td><td>7.027803e-05</td><td>0.21647560</td><td>0.03380179</td><td>0.7492088</td></tr>\n",
       "\t<tr><td>2263</td><td>0.0193742233</td><td>1.983382e-03</td><td>0.06483584</td><td>0.02787079</td><td>0.8859358</td></tr>\n",
       "\t<tr><td>5940</td><td>0.0948142112</td><td>2.619522e-02</td><td>0.31862091</td><td>0.08144627</td><td>0.4789234</td></tr>\n",
       "\t<tr><td> 905</td><td>0.0029090140</td><td>9.626001e-04</td><td>0.02829774</td><td>0.47843613</td><td>0.4893945</td></tr>\n",
       "</tbody>\n",
       "</table>\n"
      ],
      "text/latex": [
       "A tibble: 6 x 6\n",
       "\\begin{tabular}{llllll}\n",
       " Id & D & H & P & R & S\\\\\n",
       " <int> & <dbl> & <dbl> & <dbl> & <dbl> & <dbl>\\\\\n",
       "\\hline\n",
       "\t 1197 & 0.2468496230 & 6.648546e-02 & 0.22214313 & 0.16233296 & 0.3021888\\\\\n",
       "\t 1745 & 0.5021940301 & 1.492466e-01 & 0.13519934 & 0.05779201 & 0.1555680\\\\\n",
       "\t 7459 & 0.0004435492 & 7.027803e-05 & 0.21647560 & 0.03380179 & 0.7492088\\\\\n",
       "\t 2263 & 0.0193742233 & 1.983382e-03 & 0.06483584 & 0.02787079 & 0.8859358\\\\\n",
       "\t 5940 & 0.0948142112 & 2.619522e-02 & 0.31862091 & 0.08144627 & 0.4789234\\\\\n",
       "\t  905 & 0.0029090140 & 9.626001e-04 & 0.02829774 & 0.47843613 & 0.4893945\\\\\n",
       "\\end{tabular}\n"
      ],
      "text/markdown": [
       "\n",
       "A tibble: 6 x 6\n",
       "\n",
       "| Id &lt;int&gt; | D &lt;dbl&gt; | H &lt;dbl&gt; | P &lt;dbl&gt; | R &lt;dbl&gt; | S &lt;dbl&gt; |\n",
       "|---|---|---|---|---|---|\n",
       "| 1197 | 0.2468496230 | 6.648546e-02 | 0.22214313 | 0.16233296 | 0.3021888 |\n",
       "| 1745 | 0.5021940301 | 1.492466e-01 | 0.13519934 | 0.05779201 | 0.1555680 |\n",
       "| 7459 | 0.0004435492 | 7.027803e-05 | 0.21647560 | 0.03380179 | 0.7492088 |\n",
       "| 2263 | 0.0193742233 | 1.983382e-03 | 0.06483584 | 0.02787079 | 0.8859358 |\n",
       "| 5940 | 0.0948142112 | 2.619522e-02 | 0.31862091 | 0.08144627 | 0.4789234 |\n",
       "|  905 | 0.0029090140 | 9.626001e-04 | 0.02829774 | 0.47843613 | 0.4893945 |\n",
       "\n"
      ],
      "text/plain": [
       "  Id   D            H            P          R          S        \n",
       "1 1197 0.2468496230 6.648546e-02 0.22214313 0.16233296 0.3021888\n",
       "2 1745 0.5021940301 1.492466e-01 0.13519934 0.05779201 0.1555680\n",
       "3 7459 0.0004435492 7.027803e-05 0.21647560 0.03380179 0.7492088\n",
       "4 2263 0.0193742233 1.983382e-03 0.06483584 0.02787079 0.8859358\n",
       "5 5940 0.0948142112 2.619522e-02 0.31862091 0.08144627 0.4789234\n",
       "6  905 0.0029090140 9.626001e-04 0.02829774 0.47843613 0.4893945"
      ]
     },
     "metadata": {},
     "output_type": "display_data"
    }
   ],
   "source": [
    "# Getting the original labels\n",
    "encoder <- readRDS(LABEL_ENCODER_FILE)\n",
    "target <- readRDS(ENCODED_TARGET_FILE)\n",
    "class_names <- encoder[target + 1]\n",
    "unique_classes <- unique(class_names)\n",
    "unique_classes <- sort(unique_classes)\n",
    "\n",
    "if (model_category == 'binary_classification'){\n",
    "    Prediction1 <- predictions\n",
    "    Prediction2 <- 1 - Prediction1\n",
    "    predictions_df <- data.frame(Prediction2 = Prediction2, Prediction1 = Prediction1)\n",
    "    \n",
    "} else{\n",
    "    predictions_df <- predictions\n",
    "}\n",
    "colnames(predictions_df) <- unique_classes\n",
    "predictions_df <- tibble(ids = ids) %>% bind_cols(predictions_df)\n",
    "colnames(predictions_df)[1] <- id_feature\n",
    "\n",
    "write.csv(predictions_df, PREDICTIONS_FILE, row.names = FALSE)\n",
    "head(predictions_df)\n"
   ]
  },
  {
   "cell_type": "code",
   "execution_count": null,
   "metadata": {
    "vscode": {
     "languageId": "r"
    }
   },
   "outputs": [],
   "source": []
  }
 ],
 "metadata": {
  "kernelspec": {
   "display_name": "R",
   "language": "R",
   "name": "ir"
  },
  "language_info": {
   "codemirror_mode": "r",
   "file_extension": ".r",
   "mimetype": "text/x-r-source",
   "name": "R",
   "pygments_lexer": "r",
   "version": "4.3.1"
  }
 },
 "nbformat": 4,
 "nbformat_minor": 2
}
